{
  "cells": [
    {
      "cell_type": "markdown",
      "metadata": {
        "id": "OZRYJkC1tYBC"
      },
      "source": [
        "# BPA: Hill Climbing для одного облака точек\n",
        "Алгоритм оптимизации радиусов Ball Pivoting Algorithm для одного файла облака точек."
      ],
      "id": "OZRYJkC1tYBC"
    },
    {
      "cell_type": "code",
      "source": [
        "# Установка необходимых библиотек\n",
        "!pip install open3d matplotlib numpy torch pandas scikit-learn"
      ],
      "metadata": {
        "id": "xYZuQXpBtrkT"
      },
      "id": "xYZuQXpBtrkT",
      "execution_count": null,
      "outputs": []
    },
    {
      "cell_type": "code",
      "execution_count": 4,
      "metadata": {
        "id": "n8H6d5OVtYBD"
      },
      "outputs": [],
      "source": [
        "# Импорт библиотек\n",
        "import open3d as o3d\n",
        "import numpy as np\n",
        "import random\n",
        "import matplotlib.pyplot as plt"
      ],
      "id": "n8H6d5OVtYBD"
    },
    {
      "cell_type": "code",
      "execution_count": 5,
      "metadata": {
        "id": "864wvLLMtYBD"
      },
      "outputs": [],
      "source": [
        "# Метрика качества\n",
        "def score(triangles, holes):\n",
        "    return triangles - holes * 2.0\n",
        "\n",
        "# Оценка меша\n",
        "def evaluate_mesh(mesh):\n",
        "    num_triangles = len(mesh.triangles)\n",
        "    edges = dict()\n",
        "    for tri in np.asarray(mesh.triangles):\n",
        "        for i in range(3):\n",
        "            edge = tuple(sorted((tri[i], tri[(i + 1) % 3])))\n",
        "            edges[edge] = edges.get(edge, 0) + 1\n",
        "    boundary_edges = [e for e, c in edges.items() if c == 1]\n",
        "    num_holes = len(boundary_edges)\n",
        "    return num_triangles, num_holes"
      ],
      "id": "864wvLLMtYBD"
    },
    {
      "cell_type": "code",
      "execution_count": 6,
      "metadata": {
        "id": "j8lgrXe7tYBD"
      },
      "outputs": [],
      "source": [
        "# Основной алгоритм оптимизации радиусов\n",
        "def optimize_radii_hill_climb(pcd, steps=50):\n",
        "    n_points = len(pcd.points)\n",
        "    avg_dist = np.mean(pcd.compute_nearest_neighbor_distance())\n",
        "    pcd.estimate_normals(\n",
        "        search_param=o3d.geometry.KDTreeSearchParamHybrid(radius=avg_dist * 2.0, max_nn=30)\n",
        "    )\n",
        "    best_radii = [0.5 * avg_dist, 1.0 * avg_dist, 1.5 * avg_dist]\n",
        "    best_score = float('-inf')\n",
        "    best_mesh = None\n",
        "    history = []\n",
        "    for step in range(steps):\n",
        "        new_radii = [max(0.001, r + random.uniform(-0.05, 0.05) * avg_dist) for r in best_radii]\n",
        "        try:\n",
        "            mesh = o3d.geometry.TriangleMesh.create_from_point_cloud_ball_pivoting(\n",
        "                pcd, o3d.utility.DoubleVector(new_radii)\n",
        "            )\n",
        "        except Exception as e:\n",
        "            print(f\"Step {step+1:02d}: BPA failed: {e}\")\n",
        "            continue\n",
        "        triangles, holes = evaluate_mesh(mesh)\n",
        "        current_score = score(triangles, holes)\n",
        "        history.append(current_score)\n",
        "        print(f\"Step {step+1:02d}: radii={np.round(new_radii, 5)}, triangles={triangles}, holes={holes}, score={current_score}\")\n",
        "        if current_score > best_score:\n",
        "            best_radii = new_radii\n",
        "            best_score = current_score\n",
        "            best_mesh = mesh\n",
        "    return best_radii, best_score, best_mesh, history"
      ],
      "id": "j8lgrXe7tYBD"
    },
    {
      "cell_type": "code",
      "execution_count": null,
      "metadata": {
        "id": "HWDBsvBAtYBE"
      },
      "outputs": [],
      "source": [
        "# Точка входа: Запуск оптимизации для одного файла облака точек\n",
        "pcd = o3d.io.read_point_cloud(\"clouds/export1_good1.pcd\") #Вписать своё название облака точек\n",
        "if len(pcd.points) == 0:\n",
        "    raise ValueError(\"⛔ Облако точек пустое! Проверь путь к файлу и содержимое.\")\n",
        "\n",
        "best_radii, best_score, best_mesh, score_history = optimize_radii_hill_climb(pcd)\n",
        "if best_mesh is None:\n",
        "    raise RuntimeError(\"⛔ Не удалось построить ни одной поверхности. Проверь качество облака точек или параметры BPA.\")\n",
        "\n",
        "print(\"\\n🎯 Итоговые радиусы:\", best_radii)\n",
        "print(\"✅ Финальный score:\", best_score)\n",
        "\n",
        "# Визуализация финального результата\n",
        "best_mesh.compute_vertex_normals()\n",
        "o3d.visualization.draw_geometries([best_mesh], window_name=\"Final BPA Mesh\")\n",
        "o3d.io.write_triangle_mesh(\"output_mesh.glb\", best_mesh, write_triangle_uvs=False)\n",
        "print(\"💾 Модель сохранена как output_mesh.glb\")\n",
        "\n",
        "# График хода оптимизации\n",
        "plt.plot(score_history)\n",
        "plt.title(\"Hill Climbing Optimization\")\n",
        "plt.xlabel(\"Step\")\n",
        "plt.ylabel(\"Score (triangles - 2 * holes)\")\n",
        "plt.grid(True)\n",
        "plt.tight_layout()\n",
        "plt.show()"
      ],
      "id": "HWDBsvBAtYBE"
    }
  ],
  "metadata": {
    "kernelspec": {
      "display_name": "Python 3",
      "language": "python",
      "name": "python3"
    },
    "language_info": {
      "name": "python",
      "version": "3.10"
    },
    "colab": {
      "provenance": []
    }
  },
  "nbformat": 4,
  "nbformat_minor": 5
}