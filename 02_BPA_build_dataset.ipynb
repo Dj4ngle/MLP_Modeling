{
  "cells": [
    {
      "cell_type": "markdown",
      "metadata": {
        "id": "TDX5ziglyM5I"
      },
      "source": [
        "# BPA: Построение датасета радиусов для нескольких облаков\n",
        "Для каждого облака из папки \"clouds\" подбираются радиусы BPA, и результаты сохраняются в CSV."
      ],
      "id": "TDX5ziglyM5I"
    },
    {
      "cell_type": "code",
      "execution_count": null,
      "metadata": {
        "id": "ZKTXq9GfyM5J"
      },
      "outputs": [],
      "source": [
        "# Установка необходимых библиотек (только если надо)\n",
        "!pip install open3d numpy"
      ],
      "id": "ZKTXq9GfyM5J"
    },
    {
      "cell_type": "code",
      "execution_count": null,
      "metadata": {
        "id": "6OaAjNZfyM5J"
      },
      "outputs": [],
      "source": [
        "import open3d as o3d\n",
        "import numpy as np\n",
        "import random\n",
        "import os\n",
        "import csv"
      ],
      "id": "6OaAjNZfyM5J"
    },
    {
      "cell_type": "code",
      "execution_count": null,
      "metadata": {
        "id": "fUOYYEL8yM5J"
      },
      "outputs": [],
      "source": [
        "def evaluate_mesh(mesh):\n",
        "    num_triangles = len(mesh.triangles)\n",
        "    edges = dict()\n",
        "    for tri in np.asarray(mesh.triangles):\n",
        "        for i in range(3):\n",
        "            edge = tuple(sorted((tri[i], tri[(i + 1) % 3])))\n",
        "            edges[edge] = edges.get(edge, 0) + 1\n",
        "    boundary_edges = [e for e, c in edges.items() if c == 1]\n",
        "    num_holes = len(boundary_edges)\n",
        "    return num_triangles, num_holes"
      ],
      "id": "fUOYYEL8yM5J"
    },
    {
      "cell_type": "code",
      "execution_count": null,
      "metadata": {
        "id": "MAxODagjyM5K"
      },
      "outputs": [],
      "source": [
        "def score(triangles, holes):\n",
        "    return triangles - holes * 2.0"
      ],
      "id": "MAxODagjyM5K"
    },
    {
      "cell_type": "code",
      "execution_count": null,
      "metadata": {
        "id": "RGUnE3KsyM5K"
      },
      "outputs": [],
      "source": [
        "def optimize_radii(pcd, steps=30):\n",
        "    avg_dist = np.mean(pcd.compute_nearest_neighbor_distance())\n",
        "    pcd.estimate_normals(\n",
        "        search_param=o3d.geometry.KDTreeSearchParamHybrid(radius=avg_dist * 2.0, max_nn=30)\n",
        "    )\n",
        "    best_radii = [0.5 * avg_dist, 1.0 * avg_dist, 1.5 * avg_dist]\n",
        "    best_score = float('-inf')\n",
        "    for _ in range(steps):\n",
        "        new_radii = [max(0.001, r + random.uniform(-0.05, 0.05) * avg_dist) for r in best_radii]\n",
        "        try:\n",
        "            mesh = o3d.geometry.TriangleMesh.create_from_point_cloud_ball_pivoting(\n",
        "                pcd, o3d.utility.DoubleVector(new_radii)\n",
        "            )\n",
        "        except:\n",
        "            continue\n",
        "        triangles, holes = evaluate_mesh(mesh)\n",
        "        s = score(triangles, holes)\n",
        "        if s > best_score:\n",
        "            best_radii = new_radii\n",
        "            best_score = s\n",
        "    return best_radii"
      ],
      "id": "RGUnE3KsyM5K"
    },
    {
      "cell_type": "code",
      "execution_count": null,
      "metadata": {
        "id": "nhepOGYNyM5K"
      },
      "outputs": [],
      "source": [
        "def build_dataset_from_folder(folder_path, output_csv=\"bpa_dataset.csv\"):\n",
        "    rows = []\n",
        "    files = [f for f in os.listdir(folder_path) if f.endswith((\".ply\", \".pcd\", \".xyz\"))]\n",
        "    for filename in files:\n",
        "        path = os.path.join(folder_path, filename)\n",
        "        print(f\"Processing {filename}...\")\n",
        "        pcd = o3d.io.read_point_cloud(path)\n",
        "        if len(pcd.points) < 100:\n",
        "            continue\n",
        "        num_points = len(pcd.points)\n",
        "        avg_dist = np.mean(pcd.compute_nearest_neighbor_distance())\n",
        "        r1, r2, r3 = optimize_radii(pcd)\n",
        "        rows.append([num_points, avg_dist, r1, r2, r3])\n",
        "    with open(output_csv, \"w\", newline=\"\") as f:\n",
        "        writer = csv.writer(f)\n",
        "        writer.writerow([\"num_points\", \"avg_dist\", \"r1\", \"r2\", \"r3\"])\n",
        "        writer.writerows(rows)\n",
        "    print(f\"\\n✅ Dataset saved to {output_csv}\")"
      ],
      "id": "nhepOGYNyM5K"
    },
    {
      "cell_type": "code",
      "execution_count": null,
      "metadata": {
        "id": "j9f6VYrOyM5K"
      },
      "outputs": [],
      "source": [
        "# Запуск (можно менять имя папки)\n",
        "build_dataset_from_folder(\"clouds\")"
      ],
      "id": "j9f6VYrOyM5K"
    }
  ],
  "metadata": {
    "kernelspec": {
      "display_name": "Python 3",
      "language": "python",
      "name": "python3"
    },
    "language_info": {
      "name": "python",
      "version": "3.10"
    },
    "colab": {
      "provenance": []
    }
  },
  "nbformat": 4,
  "nbformat_minor": 5
}