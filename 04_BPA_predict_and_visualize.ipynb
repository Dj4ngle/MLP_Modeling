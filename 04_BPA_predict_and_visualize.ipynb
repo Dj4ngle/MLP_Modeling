{
 "cells": [
  {
   "cell_type": "markdown",
   "metadata": {},
   "source": [
    "# BPA: Предсказание радиусов нейросетью и визуализация BPA\n",
    "Использует обученную модель и новое облако точек."
   ]
  },
  {
   "cell_type": "code",
   "execution_count": null,
   "metadata": {},
   "outputs": [],
   "source": [
    "# Установка необходимых библиотек (только если надо)\n",
    "!pip install torch open3d numpy"
   ]
  },
  {
   "cell_type": "code",
   "execution_count": null,
   "metadata": {},
   "outputs": [],
   "source": [
    "import torch\n",
    "import torch.nn as nn\n",
    "import open3d as o3d\n",
    "import numpy as np"
   ]
  },
  {
   "cell_type": "code",
   "execution_count": null,
   "metadata": {},
   "outputs": [],
   "source": [
    "class RadiusNet(nn.Module):\n",
    "    def __init__(self):\n",
    "        super().__init__()\n",
    "        self.model = nn.Sequential(\n",
    "            nn.Linear(2, 64),\n",
    "            nn.ReLU(),\n",
    "            nn.Linear(64, 32),\n",
    "            nn.ReLU(),\n",
    "            nn.Linear(32, 3)\n",
    "        )\n",
    "    def forward(self, x):\n",
    "        return self.model(x)"
   ]
  },
  {
   "cell_type": "code",
   "execution_count": null,
   "metadata": {},
   "outputs": [],
   "source": [
    "def load_model(path=\"model.pt\"):\n",
    "    checkpoint = torch.load(path, weights_only=False)\n",
    "    model = RadiusNet()\n",
    "    model.load_state_dict(checkpoint[\"model_state_dict\"])\n",
    "    model.eval()\n",
    "    return model, checkpoint[\"scaler_mean\"], checkpoint[\"scaler_scale\"]"
   ]
  },
  {
   "cell_type": "code",
   "execution_count": null,
   "metadata": {},
   "outputs": [],
   "source": [
    "def predict_radii(model, mean, scale, num_points, avg_dist):\n",
    "    x = np.array([[num_points, avg_dist]])\n",
    "    x_scaled = (x - mean) / scale\n",
    "    x_tensor = torch.tensor(x_scaled, dtype=torch.float32)\n",
    "    with torch.no_grad():\n",
    "        r_pred = model(x_tensor)[0].numpy()\n",
    "    scaled_r = [max(0.01, r * avg_dist) for r in r_pred]\n",
    "    return scaled_r"
   ]
  },
  {
   "cell_type": "code",
   "execution_count": null,
   "metadata": {},
   "outputs": [],
   "source": [
    "def reconstruct_and_visualize(pcd, radii):\n",
    "    pcd.estimate_normals(\n",
    "        search_param=o3d.geometry.KDTreeSearchParamHybrid(radius=np.mean(radii) * 2.0, max_nn=30)\n",
    "    )\n",
    "    mesh = o3d.geometry.TriangleMesh.create_from_point_cloud_ball_pivoting(\n",
    "        pcd,\n",
    "        o3d.utility.DoubleVector(radii)\n",
    "    )\n",
    "    mesh.compute_vertex_normals()\n",
    "    print(f\"🎯 Predicted Radii: {np.round(radii, 5)}\")\n",
    "    o3d.visualization.draw_geometries([mesh], window_name=\"Predicted BPA Mesh\")"
   ]
  },
  {
   "cell_type": "code",
   "execution_count": null,
   "metadata": {},
   "outputs": [],
   "source": [
    "# --- Загрузка облака, предсказание, визуализация ---\n",
    "pcd = o3d.io.read_point_cloud(\"clouds/new_cloud.pcd\")  # Заменить на свой путь!\n",
    "num_points = len(pcd.points)\n",
    "avg_dist = np.mean(pcd.compute_nearest_neighbor_distance())\n",
    "print(f\"ℹ️ num_points={num_points}, avg_dist={avg_dist:.6f}\")\n",
    "model, mean, scale = load_model(\"model.pt\")\n",
    "radii = predict_radii(model, mean, scale, num_points, avg_dist)\n",
    "reconstruct_and_visualize(pcd, radii)"
   ]
  }
 ],
 "metadata": {
  "kernelspec": {
   "display_name": "Python 3",
   "language": "python",
   "name": "python3"
  },
  "language_info": {
   "name": "python",
   "version": "3.10"
  }
 },
 "nbformat": 4,
 "nbformat_minor": 5
}
